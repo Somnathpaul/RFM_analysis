{
  "nbformat": 4,
  "nbformat_minor": 0,
  "metadata": {
    "colab": {
      "private_outputs": true,
      "provenance": []
    },
    "kernelspec": {
      "name": "python3",
      "display_name": "Python 3"
    },
    "language_info": {
      "name": "python"
    }
  },
  "cells": [
    {
      "cell_type": "code",
      "execution_count": null,
      "metadata": {
        "id": "q21UbRruoJZd"
      },
      "outputs": [],
      "source": [
        "import pandas as pd\n",
        "import numpy as np"
      ]
    },
    {
      "cell_type": "code",
      "source": [
        "from google.colab import drive\n",
        "drive.mount('/content/drive')\n",
        "\n"
      ],
      "metadata": {
        "id": "xIXqQRjZobb_"
      },
      "execution_count": null,
      "outputs": []
    },
    {
      "cell_type": "code",
      "source": [
        "city = pd.read_csv('/content/drive/My Drive/collab_data/RFM_data/city.csv')\n",
        "customer_data = pd.read_csv('/content/drive/My Drive/collab_data/RFM_data/customer_data.csv')\n",
        "trans_data = pd.read_csv('/content/drive/My Drive/collab_data/RFM_data/tran_data.csv')"
      ],
      "metadata": {
        "id": "JVsbm5625e3E"
      },
      "execution_count": null,
      "outputs": []
    },
    {
      "cell_type": "code",
      "source": [
        "city.head(1)"
      ],
      "metadata": {
        "id": "l5jT14_Vqeil"
      },
      "execution_count": null,
      "outputs": []
    },
    {
      "cell_type": "markdown",
      "source": [
        "# city"
      ],
      "metadata": {
        "id": "qdAU3kngqe7v"
      }
    },
    {
      "cell_type": "code",
      "source": [
        "city = city.drop(['Id'], axis=1)"
      ],
      "metadata": {
        "id": "HM34AASTrJun"
      },
      "execution_count": null,
      "outputs": []
    },
    {
      "cell_type": "code",
      "source": [
        "city['state'].value_counts()"
      ],
      "metadata": {
        "id": "cMishKVPobf6"
      },
      "execution_count": null,
      "outputs": []
    },
    {
      "cell_type": "code",
      "source": [
        "list(city[\"state\"].unique())"
      ],
      "metadata": {
        "id": "KjRpfB1_tfJg"
      },
      "execution_count": null,
      "outputs": []
    },
    {
      "cell_type": "code",
      "source": [
        "city_list = list(city[\"state\"].unique())"
      ],
      "metadata": {
        "id": "HT_FhALWsnid"
      },
      "execution_count": null,
      "outputs": []
    },
    {
      "cell_type": "code",
      "source": [
        "# create a dictionary with five fields each\n",
        "data = {\n",
        "    'state_name': city_list,\n",
        "    'state_id': [1,2,3,4,5,6,7,8],\n",
        "   }\n",
        "\n",
        "# Convert the dictionary into DataFrame\n",
        "city_df = pd.DataFrame(data)"
      ],
      "metadata": {
        "id": "S6kK9gFgobkY"
      },
      "execution_count": null,
      "outputs": []
    },
    {
      "cell_type": "code",
      "source": [
        "city_df"
      ],
      "metadata": {
        "id": "-WaDNrneobt7"
      },
      "execution_count": null,
      "outputs": []
    },
    {
      "cell_type": "code",
      "source": [],
      "metadata": {
        "id": "h4O6WmHsobw8"
      },
      "execution_count": null,
      "outputs": []
    },
    {
      "cell_type": "markdown",
      "source": [
        "# Transaction data"
      ],
      "metadata": {
        "id": "wn8D6c1tuHV_"
      }
    },
    {
      "cell_type": "code",
      "source": [
        "trans_data.head(3)"
      ],
      "metadata": {
        "id": "0J2569ZquJli"
      },
      "execution_count": null,
      "outputs": []
    },
    {
      "cell_type": "code",
      "source": [
        "trans_data['date'].value_counts()"
      ],
      "metadata": {
        "id": "p3x496cwuPME"
      },
      "execution_count": null,
      "outputs": []
    },
    {
      "cell_type": "code",
      "source": [
        "trans_data.groupby(['Customer_id','date'])['Amount'].sum()"
      ],
      "metadata": {
        "id": "38OqZDTJvBrv"
      },
      "execution_count": null,
      "outputs": []
    },
    {
      "cell_type": "code",
      "source": [
        "print(list(trans_data['payment_mode'].value_counts()))\n",
        "print(list(trans_data[\"payment_mode\"].unique()))"
      ],
      "metadata": {
        "id": "tcAtmEj7zyVQ"
      },
      "execution_count": null,
      "outputs": []
    },
    {
      "cell_type": "code",
      "source": [
        "import matplotlib.pyplot as plt\n",
        "\n",
        "# Setting labels for items in Chart\n",
        "payment_mode = list(trans_data[\"payment_mode\"].unique())\n",
        "\n",
        "# Setting size in Chart based on\n",
        "# given values\n",
        "count_payment_mode = list(trans_data['payment_mode'].value_counts())\n",
        "\n",
        "# colors\n",
        "colors = ['#008261', '#4CA790', '#A5D3C7']\n",
        "# explosion\n",
        "explode = (0.05, 0.05, 0.05)\n",
        "\n",
        "# Pie Chart\n",
        "plt.pie(count_payment_mode, colors=colors, labels=payment_mode,\n",
        "\t\tautopct='%1.1f%%', pctdistance=0.85,\n",
        "\t\texplode=explode)\n",
        "\n",
        "# draw circle\n",
        "centre_circle = plt.Circle((0, 0), 0.70, fc='white')\n",
        "fig = plt.gcf()\n",
        "\n",
        "# Adding Circle in Pie chart\n",
        "fig.gca().add_artist(centre_circle)\n",
        "\n",
        "# Adding Title of chart\n",
        "plt.title('Payment mode')\n",
        "\n",
        "# Displaying Chart\n",
        "plt.show()\n"
      ],
      "metadata": {
        "id": "ByXrGvhWxtkz"
      },
      "execution_count": null,
      "outputs": []
    },
    {
      "cell_type": "code",
      "source": [
        "import datetime\n",
        "\n"
      ],
      "metadata": {
        "id": "dVFhpzwd0Flt"
      },
      "execution_count": null,
      "outputs": []
    },
    {
      "cell_type": "code",
      "source": [
        "# convert into date time format\n",
        "trans_data[[\"date\"]] = trans_data[[\"date\"]].apply(pd.to_datetime)"
      ],
      "metadata": {
        "id": "6GRtsaZo8F_i"
      },
      "execution_count": null,
      "outputs": []
    },
    {
      "cell_type": "code",
      "source": [
        "# extract month\n",
        "trans_data['month'] = trans_data['date'].dt.month"
      ],
      "metadata": {
        "id": "OdVAudg38sfL"
      },
      "execution_count": null,
      "outputs": []
    },
    {
      "cell_type": "code",
      "source": [
        "trans_data.head(3)"
      ],
      "metadata": {
        "id": "3fJ6cUuX8nlm"
      },
      "execution_count": null,
      "outputs": []
    },
    {
      "cell_type": "code",
      "source": [
        "unique_month = list(trans_data[\"month\"].unique())"
      ],
      "metadata": {
        "id": "tW_Smsj18nqR"
      },
      "execution_count": null,
      "outputs": []
    },
    {
      "cell_type": "code",
      "source": [
        "unique_month"
      ],
      "metadata": {
        "id": "4MSdzEZ_8nwe"
      },
      "execution_count": null,
      "outputs": []
    },
    {
      "cell_type": "code",
      "source": [
        "month_name = ['Feb','March', 'Jan', 'April']"
      ],
      "metadata": {
        "id": "W4_EmvaA9XnQ"
      },
      "execution_count": null,
      "outputs": []
    },
    {
      "cell_type": "code",
      "source": [
        "count_month = list(trans_data['month'].value_counts())"
      ],
      "metadata": {
        "id": "zjCf1zUF9EJk"
      },
      "execution_count": null,
      "outputs": []
    },
    {
      "cell_type": "code",
      "source": [
        "count_month"
      ],
      "metadata": {
        "id": "B7nl-jOc9P2N"
      },
      "execution_count": null,
      "outputs": []
    },
    {
      "cell_type": "code",
      "source": [],
      "metadata": {
        "id": "Ii4Y-6am9gLQ"
      },
      "execution_count": null,
      "outputs": []
    },
    {
      "cell_type": "code",
      "source": [],
      "metadata": {
        "id": "81w_AquZ9gWb"
      },
      "execution_count": null,
      "outputs": []
    },
    {
      "cell_type": "code",
      "source": [
        "# Setting labels for items in Chart\n",
        "month_name = ['Feb','March', 'Jan', 'April']\n",
        "\n",
        "# Setting size in Chart based on\n",
        "# given values\n",
        "count_month = list(trans_data['month'].value_counts())\n",
        "\n",
        "# colors\n",
        "colors = ['#008261', '#4CA790', '#A5D3C7', '#008261']\n",
        "# explosion\n",
        "explode = (0.05, 0.05, 0.05, 0.05)\n",
        "\n",
        "# Pie Chart\n",
        "plt.pie(count_month, colors=colors, labels=month_name,\n",
        "\t\tautopct='%1.1f%%', pctdistance=0.85,\n",
        "\t\texplode=explode)\n",
        "\n",
        "# draw circle\n",
        "centre_circle = plt.Circle((0, 0), 0.70, fc='white')\n",
        "fig = plt.gcf()\n",
        "\n",
        "# Adding Circle in Pie chart\n",
        "fig.gca().add_artist(centre_circle)\n",
        "\n",
        "# Adding Title of chart\n",
        "plt.title('Sales made in each month')\n",
        "\n",
        "# Displaying Chart\n",
        "plt.show()\n"
      ],
      "metadata": {
        "id": "rqlSBr-c9gbQ"
      },
      "execution_count": null,
      "outputs": []
    },
    {
      "cell_type": "code",
      "source": [
        "# Average cart value in each month\n",
        "round(trans_data.groupby(['month'])['Amount'].mean(), 2)"
      ],
      "metadata": {
        "id": "8ISYWv0J-HVY"
      },
      "execution_count": null,
      "outputs": []
    },
    {
      "cell_type": "markdown",
      "source": [
        "# customer data"
      ],
      "metadata": {
        "id": "_4DQLMRGJite"
      }
    },
    {
      "cell_type": "code",
      "source": [
        "customer_data"
      ],
      "metadata": {
        "id": "t5VIQUPc-rbO"
      },
      "execution_count": null,
      "outputs": []
    },
    {
      "cell_type": "code",
      "source": [
        "customer_data['state_id'] = np.random.randint(1, 3, customer_data.shape[0])"
      ],
      "metadata": {
        "id": "D7V1SFgrCoFF"
      },
      "execution_count": null,
      "outputs": []
    },
    {
      "cell_type": "code",
      "source": [
        "# dupliacte customer"
      ],
      "metadata": {
        "id": "E0AbdVzHDUmD"
      },
      "execution_count": null,
      "outputs": []
    },
    {
      "cell_type": "code",
      "source": [
        "duplicate = customer_data[customer_data.duplicated('Customer_id')]"
      ],
      "metadata": {
        "id": "_odGIHuBDxWA"
      },
      "execution_count": null,
      "outputs": []
    },
    {
      "cell_type": "code",
      "source": [
        "duplicate"
      ],
      "metadata": {
        "id": "hzcSyNJKDxa6"
      },
      "execution_count": null,
      "outputs": []
    },
    {
      "cell_type": "code",
      "source": [
        "df = duplicate"
      ],
      "metadata": {
        "id": "AVNjToWPGHwl"
      },
      "execution_count": null,
      "outputs": []
    },
    {
      "cell_type": "code",
      "source": [],
      "metadata": {
        "id": "d4Flkfl0GH3F"
      },
      "execution_count": null,
      "outputs": []
    },
    {
      "cell_type": "code",
      "source": [],
      "metadata": {
        "id": "9-ZI6_gFGH8k"
      },
      "execution_count": null,
      "outputs": []
    },
    {
      "cell_type": "code",
      "source": [
        "df"
      ],
      "metadata": {
        "id": "Llg9o3HdGLBe"
      },
      "execution_count": null,
      "outputs": []
    },
    {
      "cell_type": "code",
      "source": [
        "# keep the unique customer only\n",
        "df = df.drop_duplicates(subset=['Customer_id'], keep='first')"
      ],
      "metadata": {
        "id": "MrSR93rVGLGf"
      },
      "execution_count": null,
      "outputs": []
    },
    {
      "cell_type": "code",
      "source": [],
      "metadata": {
        "id": "r-mcRwY1G6cF"
      },
      "execution_count": null,
      "outputs": []
    },
    {
      "cell_type": "code",
      "source": [
        "new_df = pd.merge(df, trans_data, on='Customer_id', how='inner')"
      ],
      "metadata": {
        "id": "8-PEXxBtG6ho"
      },
      "execution_count": null,
      "outputs": []
    },
    {
      "cell_type": "code",
      "source": [
        "new_df"
      ],
      "metadata": {
        "id": "JUoDaZ7CH0q0"
      },
      "execution_count": null,
      "outputs": []
    },
    {
      "cell_type": "code",
      "source": [
        "new_df = pd.merge(new_df, city_df, on='state_id', how='inner')"
      ],
      "metadata": {
        "id": "BEW0bvnrH0u8"
      },
      "execution_count": null,
      "outputs": []
    },
    {
      "cell_type": "code",
      "source": [
        "new_df"
      ],
      "metadata": {
        "id": "-4EwTv8PG6mD"
      },
      "execution_count": null,
      "outputs": []
    },
    {
      "cell_type": "code",
      "source": [
        "\n",
        "# writing to Excel\n",
        "datatoexcel = pd.ExcelWriter('clean_df.xlsx')\n",
        "\n",
        "# write DataFrame to excel\n",
        "new_df.to_excel(datatoexcel)\n",
        "\n",
        "# save the excel\n",
        "datatoexcel.save()"
      ],
      "metadata": {
        "id": "GgFdG8WnQ7ny"
      },
      "execution_count": null,
      "outputs": []
    },
    {
      "cell_type": "code",
      "source": [
        "# max date\n",
        "\n",
        "max_date = max(new_df['date'])"
      ],
      "metadata": {
        "id": "GTynEUFAX2Hi"
      },
      "execution_count": null,
      "outputs": []
    },
    {
      "cell_type": "code",
      "source": [
        "print(max_date)"
      ],
      "metadata": {
        "id": "kr4mTXj2X9vw"
      },
      "execution_count": null,
      "outputs": []
    },
    {
      "cell_type": "markdown",
      "source": [
        "# data loss"
      ],
      "metadata": {
        "id": "95xlgtC3TO8i"
      }
    },
    {
      "cell_type": "code",
      "source": [
        "new_data = new_df.value_counts('Customer_id').count()"
      ],
      "metadata": {
        "id": "vyCI_pzNKNJd"
      },
      "execution_count": null,
      "outputs": []
    },
    {
      "cell_type": "code",
      "source": [
        "original = trans_data.value_counts('Customer_id').count()"
      ],
      "metadata": {
        "id": "zwBCXD1UTF7M"
      },
      "execution_count": null,
      "outputs": []
    },
    {
      "cell_type": "code",
      "source": [
        "original- new_data"
      ],
      "metadata": {
        "id": "lR35M2xWS9Yg"
      },
      "execution_count": null,
      "outputs": []
    },
    {
      "cell_type": "code",
      "source": [
        "percentage = (new_data / original) * 100"
      ],
      "metadata": {
        "id": "p6PUly9OTgwy"
      },
      "execution_count": null,
      "outputs": []
    },
    {
      "cell_type": "code",
      "source": [
        "percentage"
      ],
      "metadata": {
        "id": "minHntYpTl-n"
      },
      "execution_count": null,
      "outputs": []
    },
    {
      "cell_type": "code",
      "source": [
        "((original- new_data) / original) * 100"
      ],
      "metadata": {
        "id": "ZNEYUc2QTnY_"
      },
      "execution_count": null,
      "outputs": []
    },
    {
      "cell_type": "markdown",
      "source": [
        "**2.5 % data loss happened**"
      ],
      "metadata": {
        "id": "6s3UOnY-UBM0"
      }
    },
    {
      "cell_type": "markdown",
      "source": [
        "**Reason : We dont have customer id information in customer dataset**"
      ],
      "metadata": {
        "id": "NWORRQc8URSz"
      }
    },
    {
      "cell_type": "code",
      "source": [],
      "metadata": {
        "id": "419xQur-TxcQ"
      },
      "execution_count": null,
      "outputs": []
    }
  ]
}